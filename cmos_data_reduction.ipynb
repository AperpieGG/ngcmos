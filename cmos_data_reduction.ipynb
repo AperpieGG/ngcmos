{
 "cells": [
  {
   "cell_type": "code",
   "execution_count": 105,
   "id": "initial_id",
   "metadata": {
    "collapsed": true,
    "ExecuteTime": {
     "end_time": "2024-01-10T13:24:31.038832Z",
     "start_time": "2024-01-10T13:24:31.032345Z"
    }
   },
   "outputs": [],
   "source": [
    "import numpy as np\n",
    "import os\n",
    "from astropy.nddata import CCDData\n",
    "from astropy.io import fits\n",
    "from astropy import units as u\n",
    "from ccdproc import (\n",
    "    CCDData,\n",
    "    combine,\n",
    "    subtract_bias,\n",
    "    subtract_dark,\n",
    "    flat_correct,\n",
    "    )\n",
    "import sep\n",
    "import pyregion\n",
    "from astropy.wcs import WCS\n",
    "import glob\n",
    "import matplotlib.pyplot as plt\n",
    "import warnings\n",
    "warnings.filterwarnings('ignore')"
   ]
  },
  {
   "cell_type": "code",
   "execution_count": 88,
   "outputs": [],
   "source": [
    "in_path = '/Users/u5500483/Downloads/DATA_MAC/CMOS/20231212/'\n",
    "out_path = '/Users/u5500483/Downloads/DATA_MAC/CMOS/calibration_images/'"
   ],
   "metadata": {
    "collapsed": false,
    "ExecuteTime": {
     "end_time": "2024-01-10T13:15:42.630315Z",
     "start_time": "2024-01-10T13:15:42.627408Z"
    }
   },
   "id": "7a0270b0f8071017"
  },
  {
   "cell_type": "code",
   "execution_count": 89,
   "outputs": [],
   "source": [
    "os.chdir(in_path)"
   ],
   "metadata": {
    "collapsed": false,
    "ExecuteTime": {
     "end_time": "2024-01-10T13:15:43.102880Z",
     "start_time": "2024-01-10T13:15:43.099169Z"
    }
   },
   "id": "28bf9958d3d0e468"
  },
  {
   "cell_type": "code",
   "execution_count": 90,
   "outputs": [
    {
     "name": "stdout",
     "output_type": "stream",
     "text": [
      "Master bias already exists\n"
     ]
    }
   ],
   "source": [
    "if os.path.exists(out_path + 'master_bias.fits'):\n",
    "    print('Master bias already exists')\n",
    "    pass\n",
    "else:\n",
    "    bias_list = [f for f in glob.glob(in_path + 'bias*.fits') if 'HDR' in fits.getheader(f)['READMODE']]\n",
    "    bias_list = bias_list[:20]\n",
    "    print('Combining {} bias images'.format(len(bias_list)))\n",
    "\n",
    "    ccd_list = []\n",
    "    for f in bias_list:\n",
    "        ccd = CCDData.read(f, unit='adu')\n",
    "        ccd_list.append(ccd)\n",
    "\n",
    "# Combine the bias images\n",
    "    master_bias = combine(ccd_list, method='median')\n",
    "    # master_bias.data = master_bias.data.astype(np.float32)\n",
    "    master_bias.write(out_path + 'master_bias.fits', overwrite=True)\n",
    "    plt.imshow(master_bias, cmap='gray')\n",
    "    plt.colorbar()\n",
    "    plt.show()"
   ],
   "metadata": {
    "collapsed": false,
    "ExecuteTime": {
     "end_time": "2024-01-10T13:15:43.499518Z",
     "start_time": "2024-01-10T13:15:43.495414Z"
    }
   },
   "id": "2d38fb39f4f9ab7a"
  },
  {
   "cell_type": "code",
   "execution_count": 91,
   "outputs": [
    {
     "name": "stdout",
     "output_type": "stream",
     "text": [
      "INFO: using the unit adu passed to the FITS reader instead of the unit adu in the FITS file. [astropy.nddata.ccddata]\n",
      "Master dark already exists\n"
     ]
    }
   ],
   "source": [
    "master_bias = CCDData.read(out_path + 'master_bias.fits', unit='adu')\n",
    "if os.path.exists(out_path + 'master_dark.fits'):\n",
    "    print('Master dark already exists')\n",
    "    pass\n",
    "else:\n",
    "    dark_list = [f for f in glob.glob(in_path + 'dark*.fits') if 'HDR' in fits.getheader(f)['READMODE']]\n",
    "    dark_list = dark_list[:20]\n",
    "    print('Combining {} dark images'.format(len(dark_list)))\n",
    "\n",
    "    ccd_list = []\n",
    "    for f in dark_list:\n",
    "        ccd = CCDData.read(f, unit='adu')\n",
    "        ccd = subtract_bias(ccd, master_bias)\n",
    "        ccd_list.append(ccd)\n",
    "        \n",
    "    master_dark = combine(ccd_list, method='median')\n",
    "    master_dark.write(out_path + 'master_dark.fits', overwrite=True)\n",
    "    plt.imshow(master_dark, cmap='gray')\n",
    "    plt.colorbar()\n",
    "    plt.show()"
   ],
   "metadata": {
    "collapsed": false,
    "ExecuteTime": {
     "end_time": "2024-01-10T13:15:44.045118Z",
     "start_time": "2024-01-10T13:15:43.928618Z"
    }
   },
   "id": "253534080d7f56d7"
  },
  {
   "cell_type": "code",
   "execution_count": 92,
   "outputs": [
    {
     "name": "stdout",
     "output_type": "stream",
     "text": [
      "INFO: using the unit adu passed to the FITS reader instead of the unit adu in the FITS file. [astropy.nddata.ccddata]\n",
      "INFO: using the unit adu passed to the FITS reader instead of the unit adu in the FITS file. [astropy.nddata.ccddata]\n",
      "Master flat already exists\n"
     ]
    }
   ],
   "source": [
    "master_bias = CCDData.read(out_path + 'master_bias.fits', unit='adu')\n",
    "master_dark = CCDData.read(out_path + 'master_dark.fits', unit='adu')\n",
    "\n",
    "if os.path.exists(out_path + 'master_flat.fits'):\n",
    "    print('Master flat already exists')\n",
    "else:\n",
    "    exptime_keyword = 'EXPTIME'\n",
    "    dark_exp = 10\n",
    "    flat_list = [f for f in glob.glob(in_path + 'evening*.fits') if 'HDR' in fits.getheader(f)['READMODE']]\n",
    "    flat_list = flat_list[:20]\n",
    "    print('Combining {} flat images'.format(len(flat_list)))\n",
    "\n",
    "    flat_list_combined = []\n",
    "    for f in flat_list:\n",
    "            with fits.open(f) as fitsfile:\n",
    "                data_exp = int(fits.getheader(f)[exptime_keyword])\n",
    "                ccd = CCDData.read(f, unit=u.adu)\n",
    "                ccd = subtract_bias(ccd, master_bias)\n",
    "                ccd = subtract_dark(ccd, master_dark,\n",
    "                                    scale=True,\n",
    "                                    dark_exposure=dark_exp * u.second,\n",
    "                                    data_exposure=data_exp * u.second)\n",
    "                ccd.data = ccd.data / np.ma.average(ccd.data)\n",
    "                flat_list_combined.append(ccd)\n",
    "\n",
    "    master_flat = combine(flat_list_combined, method='median')\n",
    "    master_flat.write(out_path + 'master_flat.fits', overwrite=True)\n",
    "\n",
    "    # Plotting outside the loop\n",
    "    plt.imshow(master_flat, cmap='gray')\n",
    "    plt.colorbar()\n",
    "    plt.show()\n"
   ],
   "metadata": {
    "collapsed": false,
    "ExecuteTime": {
     "end_time": "2024-01-10T13:15:44.552170Z",
     "start_time": "2024-01-10T13:15:44.443Z"
    }
   },
   "id": "986fd8e6500ae9cf"
  },
  {
   "cell_type": "code",
   "execution_count": 109,
   "outputs": [
    {
     "name": "stdout",
     "output_type": "stream",
     "text": [
      "INFO: using the unit adu passed to the FITS reader instead of the unit adu in the FITS file. [astropy.nddata.ccddata]\n",
      "INFO: using the unit adu passed to the FITS reader instead of the unit adu in the FITS file. [astropy.nddata.ccddata]\n",
      "INFO: using the unit adu passed to the FITS reader instead of the unit adu in the FITS file. [astropy.nddata.ccddata]\n",
      "Processing 164 science images\n",
      "/Users/u5500483/Downloads/DATA_MAC/CMOS/TOI-00451/NG0411-3748_TOI-00451_802_S47-20231212035805496.fits\n",
      "/Users/u5500483/Downloads/DATA_MAC/CMOS/TOI-00451/NG0411-3748_TOI-00451_802_S47-20231212040737888.fits\n",
      "/Users/u5500483/Downloads/DATA_MAC/CMOS/TOI-00451/NG0411-3748_TOI-00451_802_S47-20231212040236629.fits\n",
      "/Users/u5500483/Downloads/DATA_MAC/CMOS/TOI-00451/NG0411-3748_TOI-00451_802_S47-20231212041329357.fits\n",
      "/Users/u5500483/Downloads/DATA_MAC/CMOS/TOI-00451/NG0411-3748_TOI-00451_802_S47-20231212035244152.fits\n",
      "/Users/u5500483/Downloads/DATA_MAC/CMOS/TOI-00451/NG0411-3748_TOI-00451_802_S47-20231212040557468.fits\n",
      "/Users/u5500483/Downloads/DATA_MAC/CMOS/TOI-00451/NG0411-3748_TOI-00451_802_S47-20231212040757972.fits\n",
      "/Users/u5500483/Downloads/DATA_MAC/CMOS/TOI-00451/NG0411-3748_TOI-00451_802_S47-20231212040306755.fits\n",
      "/Users/u5500483/Downloads/DATA_MAC/CMOS/TOI-00451/NG0411-3748_TOI-00451_802_S47-20231212034823061.fits\n",
      "/Users/u5500483/Downloads/DATA_MAC/CMOS/TOI-00451/NG0411-3748_TOI-00451_802_S47-20231212035745412.fits\n",
      "/Users/u5500483/Downloads/DATA_MAC/CMOS/TOI-00451/NG0411-3748_TOI-00451_802_S47-20231212041108770.fits\n",
      "/Users/u5500483/Downloads/DATA_MAC/CMOS/TOI-00451/NG0411-3748_TOI-00451_802_S47-20231212040828098.fits\n",
      "/Users/u5500483/Downloads/DATA_MAC/CMOS/TOI-00451/NG0411-3748_TOI-00451_802_S47-20231212035855705.fits\n",
      "/Users/u5500483/Downloads/DATA_MAC/CMOS/TOI-00451/NG0411-3748_TOI-00451_802_S47-20231212035645160.fits\n",
      "/Users/u5500483/Downloads/DATA_MAC/CMOS/TOI-00451/NG0411-3748_TOI-00451_802_S47-20231212035534866.fits\n",
      "/Users/u5500483/Downloads/DATA_MAC/CMOS/TOI-00451/NG0411-3748_TOI-00451_802_S47-20231212035544908.fits\n",
      "/Users/u5500483/Downloads/DATA_MAC/CMOS/TOI-00451/NG0411-3748_TOI-00451_802_S47-20231212041239147.fits\n",
      "/Users/u5500483/Downloads/DATA_MAC/CMOS/TOI-00451/NG0411-3748_TOI-00451_802_S47-20231212040637636.fits\n",
      "/Users/u5500483/Downloads/DATA_MAC/CMOS/TOI-00451/NG0411-3748_TOI-00451_802_S47-20231212041339399.fits\n",
      "/Users/u5500483/Downloads/DATA_MAC/CMOS/TOI-00451/NG0411-3748_TOI-00451_802_S47-20231212040336881.fits\n",
      "/Users/u5500483/Downloads/DATA_MAC/CMOS/TOI-00451/NG0411-3748_TOI-00451_802_S47-20231212040326839.fits\n",
      "/Users/u5500483/Downloads/DATA_MAC/CMOS/TOI-00451/NG0411-3748_TOI-00451_802_S47-20231212040727846.fits\n",
      "/Users/u5500483/Downloads/DATA_MAC/CMOS/TOI-00451/NG0411-3748_TOI-00451_802_S47-20231212035825579.fits\n",
      "/Users/u5500483/Downloads/DATA_MAC/CMOS/TOI-00451/NG0411-3748_TOI-00451_802_S47-20231212040156461.fits\n",
      "/Users/u5500483/Downloads/DATA_MAC/CMOS/TOI-00451/NG0411-3748_TOI-00451_802_S47-20231212040216545.fits\n",
      "/Users/u5500483/Downloads/DATA_MAC/CMOS/TOI-00451/NG0411-3748_TOI-00451_802_S47-20231212035424572.fits\n",
      "/Users/u5500483/Downloads/DATA_MAC/CMOS/TOI-00451/NG0411-3748_TOI-00451_802_S47-20231212034933355.fits\n",
      "/Users/u5500483/Downloads/DATA_MAC/CMOS/TOI-00451/NG0411-3748_TOI-00451_802_S47-20231212040407007.fits\n",
      "/Users/u5500483/Downloads/DATA_MAC/CMOS/TOI-00451/NG0411-3748_TOI-00451_802_S47-20231212041018560.fits\n",
      "/Users/u5500483/Downloads/DATA_MAC/CMOS/TOI-00451/NG0411-3748_TOI-00451_802_S47-20231212035023565.fits\n",
      "/Users/u5500483/Downloads/DATA_MAC/CMOS/TOI-00451/NG0411-3748_TOI-00451_802_S47-20231212040316797.fits\n",
      "/Users/u5500483/Downloads/DATA_MAC/CMOS/TOI-00451/NG0411-3748_TOI-00451_802_S47-20231212035945915.fits\n",
      "/Users/u5500483/Downloads/DATA_MAC/CMOS/TOI-00451/NG0411-3748_TOI-00451_802_S47-20231212041158979.fits\n",
      "/Users/u5500483/Downloads/DATA_MAC/CMOS/TOI-00451/NG0411-3748_TOI-00451_802_S47-20231212041319315.fits\n",
      "/Users/u5500483/Downloads/DATA_MAC/CMOS/TOI-00451/NG0411-3748_TOI-00451_802_S47-20231212034813019.fits\n",
      "/Users/u5500483/Downloads/DATA_MAC/CMOS/TOI-00451/NG0411-3748_TOI-00451_802_S47-20231212040427091.fits\n",
      "/Users/u5500483/Downloads/DATA_MAC/CMOS/TOI-00451/NG0411-3748_TOI-00451_802_S47-20231212035514782.fits\n",
      "/Users/u5500483/Downloads/DATA_MAC/CMOS/TOI-00451/NG0411-3748_TOI-00451_802_S47-20231212034853187.fits\n",
      "/Users/u5500483/Downloads/DATA_MAC/CMOS/TOI-00451/NG0411-3748_TOI-00451_802_S47-20231212040206503.fits\n",
      "/Users/u5500483/Downloads/DATA_MAC/CMOS/TOI-00451/NG0411-3748_TOI-00451_802_S47-20231212035925831.fits\n",
      "/Users/u5500483/Downloads/DATA_MAC/CMOS/TOI-00451/NG0411-3748_TOI-00451_802_S47-20231212040026083.fits\n",
      "/Users/u5500483/Downloads/DATA_MAC/CMOS/TOI-00451/NG0411-3748_TOI-00451_802_S47-20231212040005999.fits\n",
      "/Users/u5500483/Downloads/DATA_MAC/CMOS/TOI-00451/NG0411-3748_TOI-00451_802_S47-20231212041118812.fits\n",
      "/Users/u5500483/Downloads/DATA_MAC/CMOS/TOI-00451/NG0411-3748_TOI-00451_802_S47-20231212035334362.fits\n",
      "/Users/u5500483/Downloads/DATA_MAC/CMOS/TOI-00451/NG0411-3748_TOI-00451_802_S47-20231212035655202.fits\n",
      "/Users/u5500483/Downloads/DATA_MAC/CMOS/TOI-00451/NG0411-3748_TOI-00451_802_S47-20231212040537384.fits\n",
      "/Users/u5500483/Downloads/DATA_MAC/CMOS/TOI-00451/NG0411-3748_TOI-00451_802_S47-20231212034923313.fits\n",
      "/Users/u5500483/Downloads/DATA_MAC/CMOS/TOI-00451/NG0411-3748_TOI-00451_802_S47-20231212035735370.fits\n",
      "/Users/u5500483/Downloads/DATA_MAC/CMOS/TOI-00451/NG0411-3748_TOI-00451_802_S47-20231212040036125.fits\n",
      "/Users/u5500483/Downloads/DATA_MAC/CMOS/TOI-00451/NG0411-3748_TOI-00451_802_S47-20231212035915789.fits\n",
      "/Users/u5500483/Downloads/DATA_MAC/CMOS/TOI-00451/NG0411-3748_TOI-00451_802_S47-20231212035454698.fits\n",
      "/Users/u5500483/Downloads/DATA_MAC/CMOS/TOI-00451/NG0411-3748_TOI-00451_802_S47-20231212034943397.fits\n",
      "/Users/u5500483/Downloads/DATA_MAC/CMOS/TOI-00451/NG0411-3748_TOI-00451_802_S47-20231212035003481.fits\n",
      "/Users/u5500483/Downloads/DATA_MAC/CMOS/TOI-00451/NG0411-3748_TOI-00451_802_S47-20231212040717804.fits\n",
      "/Users/u5500483/Downloads/DATA_MAC/CMOS/TOI-00451/NG0411-3748_TOI-00451_802_S47-20231212041249189.fits\n",
      "/Users/u5500483/Downloads/DATA_MAC/CMOS/TOI-00451/NG0411-3748_TOI-00451_802_S47-20231212034722809.fits\n",
      "/Users/u5500483/Downloads/DATA_MAC/CMOS/TOI-00451/NG0411-3748_TOI-00451_802_S47-20231212035153942.fits\n",
      "/Users/u5500483/Downloads/DATA_MAC/CMOS/TOI-00451/NG0411-3748_TOI-00451_802_S47-20231212041058728.fits\n",
      "/Users/u5500483/Downloads/DATA_MAC/CMOS/TOI-00451/NG0411-3748_TOI-00451_802_S47-20231212035835621.fits\n",
      "/Users/u5500483/Downloads/DATA_MAC/CMOS/TOI-00451/NG0411-3748_TOI-00451_802_S47-20231212035314278.fits\n",
      "/Users/u5500483/Downloads/DATA_MAC/CMOS/TOI-00451/NG0411-3748_TOI-00451_802_S47-20231212040958476.fits\n",
      "/Users/u5500483/Downloads/DATA_MAC/CMOS/TOI-00451/NG0411-3748_TOI-00451_802_S47-20231212035123816.fits\n",
      "/Users/u5500483/Downloads/DATA_MAC/CMOS/TOI-00451/NG0411-3748_TOI-00451_802_S47-20231212035033607.fits\n",
      "/Users/u5500483/Downloads/DATA_MAC/CMOS/TOI-00451/NG0411-3748_TOI-00451_802_S47-20231212040607510.fits\n",
      "/Users/u5500483/Downloads/DATA_MAC/CMOS/TOI-00451/NG0411-3748_TOI-00451_802_S47-20231212034702725.fits\n",
      "/Users/u5500483/Downloads/DATA_MAC/CMOS/TOI-00451/NG0411-3748_TOI-00451_802_S47-20231212035354446.fits\n",
      "/Users/u5500483/Downloads/DATA_MAC/CMOS/TOI-00451/NG0411-3748_TOI-00451_802_S47-20231212035414530.fits\n",
      "/Users/u5500483/Downloads/DATA_MAC/CMOS/TOI-00451/NG0411-3748_TOI-00451_802_S47-20231212034843145.fits\n",
      "/Users/u5500483/Downloads/DATA_MAC/CMOS/TOI-00451/NG0411-3748_TOI-00451_802_S47-20231212035504740.fits\n",
      "/Users/u5500483/Downloads/DATA_MAC/CMOS/TOI-00451/NG0411-3748_TOI-00451_802_S47-20231212034802977.fits\n",
      "/Users/u5500483/Downloads/DATA_MAC/CMOS/TOI-00451/NG0411-3748_TOI-00451_802_S47-20231212040126335.fits\n",
      "/Users/u5500483/Downloads/DATA_MAC/CMOS/TOI-00451/NG0411-3748_TOI-00451_802_S47-20231212034903229.fits\n",
      "/Users/u5500483/Downloads/DATA_MAC/CMOS/TOI-00451/NG0411-3748_TOI-00451_802_S47-20231212035755454.fits\n",
      "/Users/u5500483/Downloads/DATA_MAC/CMOS/TOI-00451/NG0411-3748_TOI-00451_802_S47-20231212035444656.fits\n",
      "/Users/u5500483/Downloads/DATA_MAC/CMOS/TOI-00451/NG0411-3748_TOI-00451_802_S47-20231212035815537.fits\n",
      "/Users/u5500483/Downloads/DATA_MAC/CMOS/TOI-00451/NG0411-3748_TOI-00451_802_S47-20231212040808014.fits\n",
      "/Users/u5500483/Downloads/DATA_MAC/CMOS/TOI-00451/NG0411-3748_TOI-00451_802_S47-20231212035905747.fits\n",
      "/Users/u5500483/Downloads/DATA_MAC/CMOS/TOI-00451/NG0411-3748_TOI-00451_802_S47-20231212041209021.fits\n",
      "/Users/u5500483/Downloads/DATA_MAC/CMOS/TOI-00451/NG0411-3748_TOI-00451_802_S47-20231212034833103.fits\n",
      "/Users/u5500483/Downloads/DATA_MAC/CMOS/TOI-00451/NG0411-3748_TOI-00451_802_S47-20231212040928350.fits\n",
      "/Users/u5500483/Downloads/DATA_MAC/CMOS/TOI-00451/NG0411-3748_TOI-00451_802_S47-20231212035635118.fits\n",
      "/Users/u5500483/Downloads/DATA_MAC/CMOS/TOI-00451/NG0411-3748_TOI-00451_802_S47-20231212040246671.fits\n",
      "/Users/u5500483/Downloads/DATA_MAC/CMOS/TOI-00451/NG0411-3748_TOI-00451_802_S47-20231212034712767.fits\n",
      "/Users/u5500483/Downloads/DATA_MAC/CMOS/TOI-00451/NG0411-3748_TOI-00451_802_S47-20231212040617552.fits\n",
      "/Users/u5500483/Downloads/DATA_MAC/CMOS/TOI-00451/NG0411-3748_TOI-00451_802_S47-20231212035344404.fits\n",
      "/Users/u5500483/Downloads/DATA_MAC/CMOS/TOI-00451/NG0411-3748_TOI-00451_802_S47-20231212034732851.fits\n",
      "/Users/u5500483/Downloads/DATA_MAC/CMOS/TOI-00451/NG0411-3748_TOI-00451_802_S47-20231212040818056.fits\n",
      "/Users/u5500483/Downloads/DATA_MAC/CMOS/TOI-00451/NG0411-3748_TOI-00451_802_S47-20231212035133858.fits\n",
      "/Users/u5500483/Downloads/DATA_MAC/CMOS/TOI-00451/NG0411-3748_TOI-00451_802_S47-20231212041128854.fits\n",
      "/Users/u5500483/Downloads/DATA_MAC/CMOS/TOI-00451/NG0411-3748_TOI-00451_802_S47-20231212041219063.fits\n",
      "/Users/u5500483/Downloads/DATA_MAC/CMOS/TOI-00451/NG0411-3748_TOI-00451_802_S47-20231212035304236.fits\n",
      "/Users/u5500483/Downloads/DATA_MAC/CMOS/TOI-00451/NG0411-3748_TOI-00451_802_S47-20231212040136377.fits\n",
      "/Users/u5500483/Downloads/DATA_MAC/CMOS/TOI-00451/NG0411-3748_TOI-00451_802_S47-20231212035143900.fits\n",
      "/Users/u5500483/Downloads/DATA_MAC/CMOS/TOI-00451/NG0411-3748_TOI-00451_802_S47-20231212041359483.fits\n",
      "/Users/u5500483/Downloads/DATA_MAC/CMOS/TOI-00451/NG0411-3748_TOI-00451_802_S47-20231212035715286.fits\n",
      "/Users/u5500483/Downloads/DATA_MAC/CMOS/TOI-00451/NG0411-3748_TOI-00451_802_S47-20231212034913271.fits\n",
      "/Users/u5500483/Downloads/DATA_MAC/CMOS/TOI-00451/NG0411-3748_TOI-00451_802_S47-20231212040948434.fits\n",
      "/Users/u5500483/Downloads/DATA_MAC/CMOS/TOI-00451/NG0411-3748_TOI-00451_802_S47-20231212040627594.fits\n",
      "/Users/u5500483/Downloads/DATA_MAC/CMOS/TOI-00451/NG0411-3748_TOI-00451_802_S47-20231212035234110.fits\n",
      "/Users/u5500483/Downloads/DATA_MAC/CMOS/TOI-00451/NG0411-3748_TOI-00451_802_S47-20231212040056209.fits\n",
      "/Users/u5500483/Downloads/DATA_MAC/CMOS/TOI-00451/NG0411-3748_TOI-00451_802_S47-20231212040356965.fits\n",
      "/Users/u5500483/Downloads/DATA_MAC/CMOS/TOI-00451/NG0411-3748_TOI-00451_802_S47-20231212041349441.fits\n",
      "/Users/u5500483/Downloads/DATA_MAC/CMOS/TOI-00451/NG0411-3748_TOI-00451_802_S47-20231212035113775.fits\n",
      "/Users/u5500483/Downloads/DATA_MAC/CMOS/TOI-00451/NG0411-3748_TOI-00451_802_S47-20231212035254194.fits\n",
      "/Users/u5500483/Downloads/DATA_MAC/CMOS/TOI-00451/NG0411-3748_TOI-00451_802_S47-20231212040647678.fits\n",
      "/Users/u5500483/Downloads/DATA_MAC/CMOS/TOI-00451/NG0411-3748_TOI-00451_802_S47-20231212040838140.fits\n",
      "/Users/u5500483/Downloads/DATA_MAC/CMOS/TOI-00451/NG0411-3748_TOI-00451_802_S47-20231212041148937.fits\n",
      "/Users/u5500483/Downloads/DATA_MAC/CMOS/TOI-00451/NG0411-3748_TOI-00451_802_S47-20231212035705244.fits\n",
      "/Users/u5500483/Downloads/DATA_MAC/CMOS/TOI-00451/NG0411-3748_TOI-00451_802_S47-20231212034953439.fits\n",
      "/Users/u5500483/Downloads/DATA_MAC/CMOS/TOI-00451/NG0411-3748_TOI-00451_802_S47-20231212035615034.fits\n",
      "/Users/u5500483/Downloads/DATA_MAC/CMOS/TOI-00451/NG0411-3748_TOI-00451_802_S47-20231212035324320.fits\n",
      "/Users/u5500483/Downloads/DATA_MAC/CMOS/TOI-00451/NG0411-3748_TOI-00451_802_S47-20231212041038644.fits\n",
      "/Users/u5500483/Downloads/DATA_MAC/CMOS/TOI-00451/NG0411-3748_TOI-00451_802_S47-20231212040226587.fits\n",
      "/Users/u5500483/Downloads/DATA_MAC/CMOS/TOI-00451/NG0411-3748_TOI-00451_802_S47-20231212041309273.fits\n",
      "/Users/u5500483/Downloads/DATA_MAC/CMOS/TOI-00451/NG0411-3748_TOI-00451_802_S47-20231212035214026.fits\n",
      "/Users/u5500483/Downloads/DATA_MAC/CMOS/TOI-00451/NG0411-3748_TOI-00451_802_S47-20231212040908266.fits\n",
      "/Users/u5500483/Downloads/DATA_MAC/CMOS/TOI-00451/NG0411-3748_TOI-00451_802_S47-20231212035935873.fits\n",
      "/Users/u5500483/Downloads/DATA_MAC/CMOS/TOI-00451/NG0411-3748_TOI-00451_802_S47-20231212040938392.fits\n",
      "/Users/u5500483/Downloads/DATA_MAC/CMOS/TOI-00451/NG0411-3748_TOI-00451_802_S47-20231212040517300.fits\n",
      "/Users/u5500483/Downloads/DATA_MAC/CMOS/TOI-00451/NG0411-3748_TOI-00451_802_S47-20231212035725328.fits\n",
      "/Users/u5500483/Downloads/DATA_MAC/CMOS/TOI-00451/NG0411-3748_TOI-00451_802_S47-20231212040457216.fits\n",
      "/Users/u5500483/Downloads/DATA_MAC/CMOS/TOI-00451/NG0411-3748_TOI-00451_802_S47-20231212041138896.fits\n",
      "/Users/u5500483/Downloads/DATA_MAC/CMOS/TOI-00451/NG0411-3748_TOI-00451_802_S47-20231212040707762.fits\n",
      "/Users/u5500483/Downloads/DATA_MAC/CMOS/TOI-00451/NG0411-3748_TOI-00451_802_S47-20231212035554950.fits\n",
      "/Users/u5500483/Downloads/DATA_MAC/CMOS/TOI-00451/NG0411-3748_TOI-00451_802_S47-20231212040447175.fits\n",
      "/Users/u5500483/Downloads/DATA_MAC/CMOS/TOI-00451/NG0411-3748_TOI-00451_802_S47-20231212041028602.fits\n",
      "/Users/u5500483/Downloads/DATA_MAC/CMOS/TOI-00451/NG0411-3748_TOI-00451_802_S47-20231212034642641.fits\n",
      "/Users/u5500483/Downloads/DATA_MAC/CMOS/TOI-00451/NG0411-3748_TOI-00451_802_S47-20231212034752935.fits\n",
      "/Users/u5500483/Downloads/DATA_MAC/CMOS/TOI-00451/NG0411-3748_TOI-00451_802_S47-20231212041008518.fits\n",
      "/Users/u5500483/Downloads/DATA_MAC/CMOS/TOI-00451/NG0411-3748_TOI-00451_802_S47-20231212035103733.fits\n",
      "/Users/u5500483/Downloads/DATA_MAC/CMOS/TOI-00451/NG0411-3748_TOI-00451_802_S47-20231212040346923.fits\n",
      "/Users/u5500483/Downloads/DATA_MAC/CMOS/TOI-00451/NG0411-3748_TOI-00451_802_S47-20231212040437133.fits\n",
      "/Users/u5500483/Downloads/DATA_MAC/CMOS/TOI-00451/NG0411-3748_TOI-00451_802_S47-20231212035955957.fits\n",
      "/Users/u5500483/Downloads/DATA_MAC/CMOS/TOI-00451/NG0411-3748_TOI-00451_802_S47-20231212040507258.fits\n",
      "/Users/u5500483/Downloads/DATA_MAC/CMOS/TOI-00451/NG0411-3748_TOI-00451_802_S47-20231212040046167.fits\n",
      "/Users/u5500483/Downloads/DATA_MAC/CMOS/TOI-00451/NG0411-3748_TOI-00451_802_S47-20231212041259231.fits\n",
      "/Users/u5500483/Downloads/DATA_MAC/CMOS/TOI-00451/NG0411-3748_TOI-00451_802_S47-20231212040016041.fits\n",
      "/Users/u5500483/Downloads/DATA_MAC/CMOS/TOI-00451/NG0411-3748_TOI-00451_802_S47-20231212040417049.fits\n",
      "/Users/u5500483/Downloads/DATA_MAC/CMOS/TOI-00451/NG0411-3748_TOI-00451_802_S47-20231212035053691.fits\n",
      "/Users/u5500483/Downloads/DATA_MAC/CMOS/TOI-00451/NG0411-3748_TOI-00451_802_S47-20231212040918308.fits\n",
      "/Users/u5500483/Downloads/DATA_MAC/CMOS/TOI-00451/NG0411-3748_TOI-00451_802_S47-20231212040858224.fits\n",
      "/Users/u5500483/Downloads/DATA_MAC/CMOS/TOI-00451/NG0411-3748_TOI-00451_802_S47-20231212035524824.fits\n",
      "/Users/u5500483/Downloads/DATA_MAC/CMOS/TOI-00451/NG0411-3748_TOI-00451_802_S47-20231212035203984.fits\n",
      "/Users/u5500483/Downloads/DATA_MAC/CMOS/TOI-00451/NG0411-3748_TOI-00451_802_S47-20231212034742893.fits\n",
      "/Users/u5500483/Downloads/DATA_MAC/CMOS/TOI-00451/NG0411-3748_TOI-00451_802_S47-20231212040146419.fits\n",
      "/Users/u5500483/Downloads/DATA_MAC/CMOS/TOI-00451/NG0411-3748_TOI-00451_802_S47-20231212041229105.fits\n",
      "/Users/u5500483/Downloads/DATA_MAC/CMOS/TOI-00451/NG0411-3748_TOI-00451_802_S47-20231212040116293.fits\n",
      "/Users/u5500483/Downloads/DATA_MAC/CMOS/TOI-00451/NG0411-3748_TOI-00451_802_S47-20231212040657720.fits\n",
      "/Users/u5500483/Downloads/DATA_MAC/CMOS/TOI-00451/NG0411-3748_TOI-00451_802_S47-20231212035625076.fits\n",
      "/Users/u5500483/Downloads/DATA_MAC/CMOS/TOI-00451/NG0411-3748_TOI-00451_802_S47-20231212040106251.fits\n",
      "/Users/u5500483/Downloads/DATA_MAC/CMOS/TOI-00451/NG0411-3748_TOI-00451_802_S47-20231212035434614.fits\n",
      "/Users/u5500483/Downloads/DATA_MAC/CMOS/TOI-00451/NG0411-3748_TOI-00451_802_S47-20231212040547426.fits\n",
      "/Users/u5500483/Downloads/DATA_MAC/CMOS/TOI-00451/NG0411-3748_TOI-00451_802_S47-20231212035013523.fits\n",
      "/Users/u5500483/Downloads/DATA_MAC/CMOS/TOI-00451/NG0411-3748_TOI-00451_802_S47-20231212035404488.fits\n",
      "/Users/u5500483/Downloads/DATA_MAC/CMOS/TOI-00451/NG0411-3748_TOI-00451_802_S47-20231212035604992.fits\n",
      "/Users/u5500483/Downloads/DATA_MAC/CMOS/TOI-00451/NG0411-3748_TOI-00451_802_S47-20231212035845663.fits\n",
      "/Users/u5500483/Downloads/DATA_MAC/CMOS/TOI-00451/NG0411-3748_TOI-00451_802_S47-20231212040848182.fits\n",
      "/Users/u5500483/Downloads/DATA_MAC/CMOS/TOI-00451/NG0411-3748_TOI-00451_802_S47-20231212034652683.fits\n",
      "/Users/u5500483/Downloads/DATA_MAC/CMOS/TOI-00451/NG0411-3748_TOI-00451_802_S47-20231212035043649.fits\n",
      "/Users/u5500483/Downloads/DATA_MAC/CMOS/TOI-00451/NG0411-3748_TOI-00451_802_S47-20231212040256713.fits\n",
      "/Users/u5500483/Downloads/DATA_MAC/CMOS/TOI-00451/NG0411-3748_TOI-00451_802_S47-20231212040527342.fits\n",
      "/Users/u5500483/Downloads/DATA_MAC/CMOS/TOI-00451/NG0411-3748_TOI-00451_802_S47-20231212041048686.fits\n",
      "/Users/u5500483/Downloads/DATA_MAC/CMOS/TOI-00451/NG0411-3748_TOI-00451_802_S47-20231212035224068.fits\n",
      "/Users/u5500483/Downloads/DATA_MAC/CMOS/TOI-00451/NG0411-3748_TOI-00451_802_S47-20231212040747930.fits\n"
     ]
    }
   ],
   "source": [
    "data_path = '/Users/u5500483/Downloads/DATA_MAC/CMOS/TOI-00451/'  # Replace with your actual output path\n",
    "out_path = '/Users/u5500483/Downloads/DATA_MAC/CMOS/calibration_images/'\n",
    "\n",
    "master_bias = CCDData.read(out_path + 'master_bias.fits', unit='adu')\n",
    "master_dark = CCDData.read(out_path + 'master_dark.fits', unit='adu')\n",
    "master_flat = CCDData.read(out_path + 'master_flat.fits', unit='adu')\n",
    "\n",
    "r_files = glob.glob(data_path + '*TOI*_r.fits')\n",
    "\n",
    "if r_files:\n",
    "    print('Images have been calibrated from bias, dark, and flat')\n",
    "else:\n",
    "    dark_exp = 10\n",
    "    exptime_keyword = 'EXPTIME'\n",
    "    science_list = [f for f in glob.glob(data_path + '*TOI*.fits')]\n",
    "    for f in science_list:\n",
    "        print(f)\n",
    "        ccd = CCDData.read(f, unit=u.adu)\n",
    "        ccd = subtract_bias(ccd, master_bias)\n",
    "\n",
    "        with fits.open(f) as fitsfile:\n",
    "            # collect/correct some header values\n",
    "            hdr = fitsfile[0].header\n",
    "            data_exp = int(hdr[exptime_keyword])\n",
    "\n",
    "        ccd = subtract_dark(ccd, master_dark,\n",
    "                            scale=True,\n",
    "                            dark_exposure=dark_exp*u.second,\n",
    "                            data_exposure=data_exp*u.second)\n",
    "        ccd = flat_correct(ccd, master_flat)\n",
    "        new_filename = '{}_r.fits'.format(f.split('.fits')[0])\n",
    "        fits.writeto(new_filename, ccd.data, hdr, overwrite=True)\n",
    "        print('Science images have been calibrated from bias, dark, and flat')"
   ],
   "metadata": {
    "collapsed": false,
    "ExecuteTime": {
     "end_time": "2024-01-10T13:28:33.118357Z",
     "start_time": "2024-01-10T13:27:51.101648Z"
    }
   },
   "id": "29ee058e3ee10caa"
  },
  {
   "cell_type": "code",
   "execution_count": null,
   "outputs": [],
   "source": [],
   "metadata": {
    "collapsed": false
   },
   "id": "70babe94b9114321"
  }
 ],
 "metadata": {
  "kernelspec": {
   "display_name": "Python 3",
   "language": "python",
   "name": "python3"
  },
  "language_info": {
   "codemirror_mode": {
    "name": "ipython",
    "version": 2
   },
   "file_extension": ".py",
   "mimetype": "text/x-python",
   "name": "python",
   "nbconvert_exporter": "python",
   "pygments_lexer": "ipython2",
   "version": "2.7.6"
  }
 },
 "nbformat": 4,
 "nbformat_minor": 5
}
