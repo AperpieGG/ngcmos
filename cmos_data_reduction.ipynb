{
 "cells": [
  {
   "cell_type": "code",
   "execution_count": 2,
   "id": "initial_id",
   "metadata": {
    "collapsed": true,
    "ExecuteTime": {
     "end_time": "2024-01-10T17:02:18.653669Z",
     "start_time": "2024-01-10T17:02:17.206824Z"
    }
   },
   "outputs": [],
   "source": [
    "import numpy as np\n",
    "import os\n",
    "from astropy.io import fits\n",
    "from astropy import units as u\n",
    "from ccdproc import (\n",
    "    CCDData,\n",
    "    combine,\n",
    "    subtract_bias,\n",
    "    subtract_dark,\n",
    "    flat_correct,\n",
    "    )\n",
    "import glob\n",
    "import matplotlib.pyplot as plt\n",
    "import warnings\n",
    "warnings.filterwarnings('ignore')"
   ]
  },
  {
   "cell_type": "code",
   "execution_count": 3,
   "outputs": [],
   "source": [
    "in_path = '/Users/u5500483/Downloads/DATA_MAC/CMOS/20231212/'\n",
    "out_path = '/Users/u5500483/Downloads/DATA_MAC/CMOS/calibration_images/'"
   ],
   "metadata": {
    "collapsed": false,
    "ExecuteTime": {
     "end_time": "2024-01-10T17:02:18.786508Z",
     "start_time": "2024-01-10T17:02:18.781703Z"
    }
   },
   "id": "7a0270b0f8071017"
  },
  {
   "cell_type": "code",
   "execution_count": 4,
   "outputs": [],
   "source": [
    "os.chdir(in_path)"
   ],
   "metadata": {
    "collapsed": false,
    "ExecuteTime": {
     "end_time": "2024-01-10T17:02:19.204846Z",
     "start_time": "2024-01-10T17:02:19.201908Z"
    }
   },
   "id": "28bf9958d3d0e468"
  },
  {
   "cell_type": "code",
   "execution_count": 5,
   "outputs": [
    {
     "name": "stdout",
     "output_type": "stream",
     "text": [
      "Master bias already exists\n"
     ]
    }
   ],
   "source": [
    "if os.path.exists(out_path + 'master_bias.fits'):\n",
    "    print('Master bias already exists')\n",
    "    pass\n",
    "else:\n",
    "    bias_list = [f for f in glob.glob(in_path + 'bias*.fits') if 'HDR' in fits.getheader(f)['READMODE']]\n",
    "    bias_list = bias_list[:20]\n",
    "    print('Combining {} bias images'.format(len(bias_list)))\n",
    "\n",
    "    ccd_list = []\n",
    "    for f in bias_list:\n",
    "        ccd = CCDData.read(f, unit='adu')\n",
    "        ccd_list.append(ccd)\n",
    "\n",
    "# Combine the bias images\n",
    "    master_bias = combine(ccd_list, method='median')\n",
    "    # master_bias.data = master_bias.data.astype('int16')\n",
    "    master_bias.write(out_path + 'master_bias.fits', overwrite=True)\n",
    "    plt.imshow(master_bias, cmap='gray')\n",
    "    plt.colorbar()\n",
    "    plt.show()"
   ],
   "metadata": {
    "collapsed": false,
    "ExecuteTime": {
     "end_time": "2024-01-10T17:02:19.640098Z",
     "start_time": "2024-01-10T17:02:19.637458Z"
    }
   },
   "id": "2d38fb39f4f9ab7a"
  },
  {
   "cell_type": "code",
   "execution_count": 6,
   "outputs": [
    {
     "name": "stdout",
     "output_type": "stream",
     "text": [
      "INFO: using the unit adu passed to the FITS reader instead of the unit adu in the FITS file. [astropy.nddata.ccddata]\n",
      "Master dark already exists\n"
     ]
    }
   ],
   "source": [
    "master_bias = CCDData.read(out_path + 'master_bias.fits', unit='adu')\n",
    "if os.path.exists(out_path + 'master_dark.fits'):\n",
    "    print('Master dark already exists')\n",
    "    pass\n",
    "else:\n",
    "    dark_list = [f for f in glob.glob(in_path + 'dark*.fits') if 'HDR' in fits.getheader(f)['READMODE']]\n",
    "    dark_list = dark_list[:20]\n",
    "    print('Combining {} dark images'.format(len(dark_list)))\n",
    "\n",
    "    ccd_list = []\n",
    "    for f in dark_list:\n",
    "        ccd = CCDData.read(f, unit='adu')\n",
    "        ccd = subtract_bias(ccd, master_bias)\n",
    "        ccd_list.append(ccd)\n",
    "        \n",
    "    master_dark = combine(ccd_list, method='median')\n",
    "    # master_dark.data = master_dark.data.astype('int16')\n",
    "    master_dark.write(out_path + 'master_dark.fits', overwrite=True)\n",
    "    plt.imshow(master_dark, cmap='gray')\n",
    "    plt.colorbar()\n",
    "    plt.show()"
   ],
   "metadata": {
    "collapsed": false,
    "ExecuteTime": {
     "end_time": "2024-01-10T17:02:20.861414Z",
     "start_time": "2024-01-10T17:02:20.729435Z"
    }
   },
   "id": "253534080d7f56d7"
  },
  {
   "cell_type": "code",
   "execution_count": 7,
   "outputs": [
    {
     "name": "stdout",
     "output_type": "stream",
     "text": [
      "INFO: using the unit adu passed to the FITS reader instead of the unit adu in the FITS file. [astropy.nddata.ccddata]\n",
      "INFO: using the unit adu passed to the FITS reader instead of the unit adu in the FITS file. [astropy.nddata.ccddata]\n",
      "Master flat already exists\n"
     ]
    }
   ],
   "source": [
    "master_bias = CCDData.read(out_path + 'master_bias.fits', unit='adu')\n",
    "master_dark = CCDData.read(out_path + 'master_dark.fits', unit='adu')\n",
    "\n",
    "if os.path.exists(out_path + 'master_flat.fits'):\n",
    "    print('Master flat already exists')\n",
    "else:\n",
    "    exptime_keyword = 'EXPTIME'\n",
    "    dark_exp = 10\n",
    "    flat_list = [f for f in glob.glob(in_path + 'evening*.fits') if 'HDR' in fits.getheader(f)['READMODE']]\n",
    "    flat_list = flat_list[:20]\n",
    "    print('Combining {} flat images'.format(len(flat_list)))\n",
    "\n",
    "    flat_list_combined = []\n",
    "    for f in flat_list:\n",
    "            with fits.open(f) as fitsfile:\n",
    "                data_exp = int(fits.getheader(f)[exptime_keyword])\n",
    "                ccd = CCDData.read(f, unit=u.adu)\n",
    "                ccd = subtract_bias(ccd, master_bias)\n",
    "                ccd = subtract_dark(ccd, master_dark,\n",
    "                                    scale=True,\n",
    "                                    dark_exposure=dark_exp * u.second,\n",
    "                                    data_exposure=data_exp * u.second)\n",
    "                ccd.data = ccd.data / np.ma.average(ccd.data)\n",
    "                flat_list_combined.append(ccd)\n",
    "\n",
    "    master_flat = combine(flat_list_combined, method='median')\n",
    "    master_flat.write(out_path + 'master_flat.fits', overwrite=True)\n",
    "\n",
    "    # Plotting outside the loop\n",
    "    plt.imshow(master_flat, cmap='gray')\n",
    "    plt.colorbar()\n",
    "    plt.show()\n"
   ],
   "metadata": {
    "collapsed": false,
    "ExecuteTime": {
     "end_time": "2024-01-10T17:02:21.456817Z",
     "start_time": "2024-01-10T17:02:21.333141Z"
    }
   },
   "id": "986fd8e6500ae9cf"
  },
  {
   "cell_type": "code",
   "execution_count": 18,
   "outputs": [
    {
     "name": "stdout",
     "output_type": "stream",
     "text": [
      "INFO: using the unit adu passed to the FITS reader instead of the unit adu in the FITS file. [astropy.nddata.ccddata]\n",
      "INFO: using the unit adu passed to the FITS reader instead of the unit adu in the FITS file. [astropy.nddata.ccddata]\n",
      "INFO: using the unit adu passed to the FITS reader instead of the unit adu in the FITS file. [astropy.nddata.ccddata]\n",
      "Science images have been calibrated from bias, dark, and flat\n"
     ]
    }
   ],
   "source": [
    "data_path = '/Users/u5500483/Downloads/DATA_MAC/CMOS/TOI-00451/'  # Replace with your actual output path\n",
    "out_path = '/Users/u5500483/Downloads/DATA_MAC/CMOS/calibration_images/'\n",
    "\n",
    "master_bias = CCDData.read(out_path + 'master_bias.fits', unit='adu')\n",
    "master_dark = CCDData.read(out_path + 'master_dark.fits', unit='adu')\n",
    "master_flat = CCDData.read(out_path + 'master_flat.fits', unit='adu')\n",
    "\n",
    "r_files = glob.glob(data_path + '*TOI*_r.fits')\n",
    "\n",
    "if r_files:\n",
    "    print('Images have already been calibrated from bias, dark, and flat')\n",
    "else:\n",
    "    dark_exp = 10\n",
    "    exptime_keyword = 'EXPTIME'\n",
    "    science_list = [f for f in glob.glob(data_path + '*TOI*.fits')]\n",
    "    for f in science_list:\n",
    "        ccd = CCDData.read(f, unit=u.adu)\n",
    "        ccd = subtract_bias(ccd, master_bias)\n",
    "\n",
    "        with fits.open(f) as fitsfile:\n",
    "            # collect/correct some header values\n",
    "            hdr = fitsfile[0].header\n",
    "            data_exp = int(hdr[exptime_keyword])\n",
    "\n",
    "        ccd = subtract_dark(ccd, master_dark,\n",
    "                            scale=True,\n",
    "                            dark_exposure=dark_exp*u.second,\n",
    "                            data_exposure=data_exp*u.second)\n",
    "        ccd = flat_correct(ccd, master_flat)\n",
    "        limits = np.finfo(ccd.data.dtype)\n",
    "        ccd.data[ccd.data < limits.min] = limits.min\n",
    "        ccd.data[ccd.data > limits.max] = limits.max\n",
    "        new_filename = '{}_r.fits'.format(f.split('.fits')[0])\n",
    "        fits.writeto(new_filename, ccd.data, hdr, overwrite=True)\n",
    "    print('Science images have been calibrated from bias, dark, and flat')"
   ],
   "metadata": {
    "collapsed": false,
    "ExecuteTime": {
     "end_time": "2024-01-10T17:17:15.947496Z",
     "start_time": "2024-01-10T17:16:33.238167Z"
    }
   },
   "id": "29ee058e3ee10caa"
  },
  {
   "cell_type": "code",
   "execution_count": null,
   "outputs": [],
   "source": [],
   "metadata": {
    "collapsed": false
   },
   "id": "da328c11bb6c38bc"
  }
 ],
 "metadata": {
  "kernelspec": {
   "display_name": "Python 3",
   "language": "python",
   "name": "python3"
  },
  "language_info": {
   "codemirror_mode": {
    "name": "ipython",
    "version": 2
   },
   "file_extension": ".py",
   "mimetype": "text/x-python",
   "name": "python",
   "nbconvert_exporter": "python",
   "pygments_lexer": "ipython2",
   "version": "2.7.6"
  }
 },
 "nbformat": 4,
 "nbformat_minor": 5
}
